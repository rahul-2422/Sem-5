{
  "nbformat": 4,
  "nbformat_minor": 0,
  "metadata": {
    "colab": {
      "provenance": []
    },
    "kernelspec": {
      "name": "python3",
      "display_name": "Python 3"
    },
    "language_info": {
      "name": "python"
    }
  },
  "cells": [
    {
      "cell_type": "code",
      "execution_count": null,
      "metadata": {
        "id": "DKtnY_OhXDRv"
      },
      "outputs": [],
      "source": [
        "import pandas as pd\n",
        "import numpy as np\n",
        "import re, math\n",
        "from sklearn.metrics import confusion_matrix , classification_report"
      ]
    },
    {
      "cell_type": "code",
      "source": [
        "from google.colab import files\n",
        "\n",
        "uploaded = files.upload()"
      ],
      "metadata": {
        "colab": {
          "base_uri": "https://localhost:8080/",
          "height": 110
        },
        "id": "edkZgRc0XNYp",
        "outputId": "934a5b89-59c0-4150-fb16-7ae05dfc2111"
      },
      "execution_count": null,
      "outputs": [
        {
          "output_type": "display_data",
          "data": {
            "text/plain": [
              "<IPython.core.display.HTML object>"
            ],
            "text/html": [
              "\n",
              "     <input type=\"file\" id=\"files-db4998f3-c0e6-4c4a-963f-bc1c8c3ac808\" name=\"files[]\" multiple disabled\n",
              "        style=\"border:none\" />\n",
              "     <output id=\"result-db4998f3-c0e6-4c4a-963f-bc1c8c3ac808\">\n",
              "      Upload widget is only available when the cell has been executed in the\n",
              "      current browser session. Please rerun this cell to enable.\n",
              "      </output>\n",
              "      <script>// Copyright 2017 Google LLC\n",
              "//\n",
              "// Licensed under the Apache License, Version 2.0 (the \"License\");\n",
              "// you may not use this file except in compliance with the License.\n",
              "// You may obtain a copy of the License at\n",
              "//\n",
              "//      http://www.apache.org/licenses/LICENSE-2.0\n",
              "//\n",
              "// Unless required by applicable law or agreed to in writing, software\n",
              "// distributed under the License is distributed on an \"AS IS\" BASIS,\n",
              "// WITHOUT WARRANTIES OR CONDITIONS OF ANY KIND, either express or implied.\n",
              "// See the License for the specific language governing permissions and\n",
              "// limitations under the License.\n",
              "\n",
              "/**\n",
              " * @fileoverview Helpers for google.colab Python module.\n",
              " */\n",
              "(function(scope) {\n",
              "function span(text, styleAttributes = {}) {\n",
              "  const element = document.createElement('span');\n",
              "  element.textContent = text;\n",
              "  for (const key of Object.keys(styleAttributes)) {\n",
              "    element.style[key] = styleAttributes[key];\n",
              "  }\n",
              "  return element;\n",
              "}\n",
              "\n",
              "// Max number of bytes which will be uploaded at a time.\n",
              "const MAX_PAYLOAD_SIZE = 100 * 1024;\n",
              "\n",
              "function _uploadFiles(inputId, outputId) {\n",
              "  const steps = uploadFilesStep(inputId, outputId);\n",
              "  const outputElement = document.getElementById(outputId);\n",
              "  // Cache steps on the outputElement to make it available for the next call\n",
              "  // to uploadFilesContinue from Python.\n",
              "  outputElement.steps = steps;\n",
              "\n",
              "  return _uploadFilesContinue(outputId);\n",
              "}\n",
              "\n",
              "// This is roughly an async generator (not supported in the browser yet),\n",
              "// where there are multiple asynchronous steps and the Python side is going\n",
              "// to poll for completion of each step.\n",
              "// This uses a Promise to block the python side on completion of each step,\n",
              "// then passes the result of the previous step as the input to the next step.\n",
              "function _uploadFilesContinue(outputId) {\n",
              "  const outputElement = document.getElementById(outputId);\n",
              "  const steps = outputElement.steps;\n",
              "\n",
              "  const next = steps.next(outputElement.lastPromiseValue);\n",
              "  return Promise.resolve(next.value.promise).then((value) => {\n",
              "    // Cache the last promise value to make it available to the next\n",
              "    // step of the generator.\n",
              "    outputElement.lastPromiseValue = value;\n",
              "    return next.value.response;\n",
              "  });\n",
              "}\n",
              "\n",
              "/**\n",
              " * Generator function which is called between each async step of the upload\n",
              " * process.\n",
              " * @param {string} inputId Element ID of the input file picker element.\n",
              " * @param {string} outputId Element ID of the output display.\n",
              " * @return {!Iterable<!Object>} Iterable of next steps.\n",
              " */\n",
              "function* uploadFilesStep(inputId, outputId) {\n",
              "  const inputElement = document.getElementById(inputId);\n",
              "  inputElement.disabled = false;\n",
              "\n",
              "  const outputElement = document.getElementById(outputId);\n",
              "  outputElement.innerHTML = '';\n",
              "\n",
              "  const pickedPromise = new Promise((resolve) => {\n",
              "    inputElement.addEventListener('change', (e) => {\n",
              "      resolve(e.target.files);\n",
              "    });\n",
              "  });\n",
              "\n",
              "  const cancel = document.createElement('button');\n",
              "  inputElement.parentElement.appendChild(cancel);\n",
              "  cancel.textContent = 'Cancel upload';\n",
              "  const cancelPromise = new Promise((resolve) => {\n",
              "    cancel.onclick = () => {\n",
              "      resolve(null);\n",
              "    };\n",
              "  });\n",
              "\n",
              "  // Wait for the user to pick the files.\n",
              "  const files = yield {\n",
              "    promise: Promise.race([pickedPromise, cancelPromise]),\n",
              "    response: {\n",
              "      action: 'starting',\n",
              "    }\n",
              "  };\n",
              "\n",
              "  cancel.remove();\n",
              "\n",
              "  // Disable the input element since further picks are not allowed.\n",
              "  inputElement.disabled = true;\n",
              "\n",
              "  if (!files) {\n",
              "    return {\n",
              "      response: {\n",
              "        action: 'complete',\n",
              "      }\n",
              "    };\n",
              "  }\n",
              "\n",
              "  for (const file of files) {\n",
              "    const li = document.createElement('li');\n",
              "    li.append(span(file.name, {fontWeight: 'bold'}));\n",
              "    li.append(span(\n",
              "        `(${file.type || 'n/a'}) - ${file.size} bytes, ` +\n",
              "        `last modified: ${\n",
              "            file.lastModifiedDate ? file.lastModifiedDate.toLocaleDateString() :\n",
              "                                    'n/a'} - `));\n",
              "    const percent = span('0% done');\n",
              "    li.appendChild(percent);\n",
              "\n",
              "    outputElement.appendChild(li);\n",
              "\n",
              "    const fileDataPromise = new Promise((resolve) => {\n",
              "      const reader = new FileReader();\n",
              "      reader.onload = (e) => {\n",
              "        resolve(e.target.result);\n",
              "      };\n",
              "      reader.readAsArrayBuffer(file);\n",
              "    });\n",
              "    // Wait for the data to be ready.\n",
              "    let fileData = yield {\n",
              "      promise: fileDataPromise,\n",
              "      response: {\n",
              "        action: 'continue',\n",
              "      }\n",
              "    };\n",
              "\n",
              "    // Use a chunked sending to avoid message size limits. See b/62115660.\n",
              "    let position = 0;\n",
              "    do {\n",
              "      const length = Math.min(fileData.byteLength - position, MAX_PAYLOAD_SIZE);\n",
              "      const chunk = new Uint8Array(fileData, position, length);\n",
              "      position += length;\n",
              "\n",
              "      const base64 = btoa(String.fromCharCode.apply(null, chunk));\n",
              "      yield {\n",
              "        response: {\n",
              "          action: 'append',\n",
              "          file: file.name,\n",
              "          data: base64,\n",
              "        },\n",
              "      };\n",
              "\n",
              "      let percentDone = fileData.byteLength === 0 ?\n",
              "          100 :\n",
              "          Math.round((position / fileData.byteLength) * 100);\n",
              "      percent.textContent = `${percentDone}% done`;\n",
              "\n",
              "    } while (position < fileData.byteLength);\n",
              "  }\n",
              "\n",
              "  // All done.\n",
              "  yield {\n",
              "    response: {\n",
              "      action: 'complete',\n",
              "    }\n",
              "  };\n",
              "}\n",
              "\n",
              "scope.google = scope.google || {};\n",
              "scope.google.colab = scope.google.colab || {};\n",
              "scope.google.colab._files = {\n",
              "  _uploadFiles,\n",
              "  _uploadFilesContinue,\n",
              "};\n",
              "})(self);\n",
              "</script> "
            ]
          },
          "metadata": {}
        },
        {
          "output_type": "stream",
          "name": "stdout",
          "text": [
            "Saving test.txt to test.txt\n",
            "Saving train.txt to train.txt\n"
          ]
        }
      ]
    },
    {
      "cell_type": "code",
      "source": [
        "trainData = pd.read_csv(\"/content/train.txt\", header = None)\n",
        "testData = pd.read_csv(\"/content/test.txt\", header = None)"
      ],
      "metadata": {
        "id": "dJPEEOrvXPk7"
      },
      "execution_count": null,
      "outputs": []
    },
    {
      "cell_type": "code",
      "source": [
        "trainData.head()\n"
      ],
      "metadata": {
        "colab": {
          "base_uri": "https://localhost:8080/",
          "height": 206
        },
        "id": "s8tzVxaQXoWt",
        "outputId": "0f7dfc00-a56c-435b-a57c-5a2cae1d8a21"
      },
      "execution_count": null,
      "outputs": [
        {
          "output_type": "execute_result",
          "data": {
            "text/plain": [
              "                                                   0\n",
              "0                    i didnt feel humiliated;sadness\n",
              "1  i can go from feeling so hopeless to so damned...\n",
              "2  im grabbing a minute to post i feel greedy wro...\n",
              "3  i am ever feeling nostalgic about the fireplac...\n",
              "4                         i am feeling grouchy;anger"
            ],
            "text/html": [
              "\n",
              "  <div id=\"df-50886fd0-2c86-45f8-a290-5b2e584d35bf\">\n",
              "    <div class=\"colab-df-container\">\n",
              "      <div>\n",
              "<style scoped>\n",
              "    .dataframe tbody tr th:only-of-type {\n",
              "        vertical-align: middle;\n",
              "    }\n",
              "\n",
              "    .dataframe tbody tr th {\n",
              "        vertical-align: top;\n",
              "    }\n",
              "\n",
              "    .dataframe thead th {\n",
              "        text-align: right;\n",
              "    }\n",
              "</style>\n",
              "<table border=\"1\" class=\"dataframe\">\n",
              "  <thead>\n",
              "    <tr style=\"text-align: right;\">\n",
              "      <th></th>\n",
              "      <th>0</th>\n",
              "    </tr>\n",
              "  </thead>\n",
              "  <tbody>\n",
              "    <tr>\n",
              "      <th>0</th>\n",
              "      <td>i didnt feel humiliated;sadness</td>\n",
              "    </tr>\n",
              "    <tr>\n",
              "      <th>1</th>\n",
              "      <td>i can go from feeling so hopeless to so damned...</td>\n",
              "    </tr>\n",
              "    <tr>\n",
              "      <th>2</th>\n",
              "      <td>im grabbing a minute to post i feel greedy wro...</td>\n",
              "    </tr>\n",
              "    <tr>\n",
              "      <th>3</th>\n",
              "      <td>i am ever feeling nostalgic about the fireplac...</td>\n",
              "    </tr>\n",
              "    <tr>\n",
              "      <th>4</th>\n",
              "      <td>i am feeling grouchy;anger</td>\n",
              "    </tr>\n",
              "  </tbody>\n",
              "</table>\n",
              "</div>\n",
              "      <button class=\"colab-df-convert\" onclick=\"convertToInteractive('df-50886fd0-2c86-45f8-a290-5b2e584d35bf')\"\n",
              "              title=\"Convert this dataframe to an interactive table.\"\n",
              "              style=\"display:none;\">\n",
              "        \n",
              "  <svg xmlns=\"http://www.w3.org/2000/svg\" height=\"24px\"viewBox=\"0 0 24 24\"\n",
              "       width=\"24px\">\n",
              "    <path d=\"M0 0h24v24H0V0z\" fill=\"none\"/>\n",
              "    <path d=\"M18.56 5.44l.94 2.06.94-2.06 2.06-.94-2.06-.94-.94-2.06-.94 2.06-2.06.94zm-11 1L8.5 8.5l.94-2.06 2.06-.94-2.06-.94L8.5 2.5l-.94 2.06-2.06.94zm10 10l.94 2.06.94-2.06 2.06-.94-2.06-.94-.94-2.06-.94 2.06-2.06.94z\"/><path d=\"M17.41 7.96l-1.37-1.37c-.4-.4-.92-.59-1.43-.59-.52 0-1.04.2-1.43.59L10.3 9.45l-7.72 7.72c-.78.78-.78 2.05 0 2.83L4 21.41c.39.39.9.59 1.41.59.51 0 1.02-.2 1.41-.59l7.78-7.78 2.81-2.81c.8-.78.8-2.07 0-2.86zM5.41 20L4 18.59l7.72-7.72 1.47 1.35L5.41 20z\"/>\n",
              "  </svg>\n",
              "      </button>\n",
              "      \n",
              "  <style>\n",
              "    .colab-df-container {\n",
              "      display:flex;\n",
              "      flex-wrap:wrap;\n",
              "      gap: 12px;\n",
              "    }\n",
              "\n",
              "    .colab-df-convert {\n",
              "      background-color: #E8F0FE;\n",
              "      border: none;\n",
              "      border-radius: 50%;\n",
              "      cursor: pointer;\n",
              "      display: none;\n",
              "      fill: #1967D2;\n",
              "      height: 32px;\n",
              "      padding: 0 0 0 0;\n",
              "      width: 32px;\n",
              "    }\n",
              "\n",
              "    .colab-df-convert:hover {\n",
              "      background-color: #E2EBFA;\n",
              "      box-shadow: 0px 1px 2px rgba(60, 64, 67, 0.3), 0px 1px 3px 1px rgba(60, 64, 67, 0.15);\n",
              "      fill: #174EA6;\n",
              "    }\n",
              "\n",
              "    [theme=dark] .colab-df-convert {\n",
              "      background-color: #3B4455;\n",
              "      fill: #D2E3FC;\n",
              "    }\n",
              "\n",
              "    [theme=dark] .colab-df-convert:hover {\n",
              "      background-color: #434B5C;\n",
              "      box-shadow: 0px 1px 3px 1px rgba(0, 0, 0, 0.15);\n",
              "      filter: drop-shadow(0px 1px 2px rgba(0, 0, 0, 0.3));\n",
              "      fill: #FFFFFF;\n",
              "    }\n",
              "  </style>\n",
              "\n",
              "      <script>\n",
              "        const buttonEl =\n",
              "          document.querySelector('#df-50886fd0-2c86-45f8-a290-5b2e584d35bf button.colab-df-convert');\n",
              "        buttonEl.style.display =\n",
              "          google.colab.kernel.accessAllowed ? 'block' : 'none';\n",
              "\n",
              "        async function convertToInteractive(key) {\n",
              "          const element = document.querySelector('#df-50886fd0-2c86-45f8-a290-5b2e584d35bf');\n",
              "          const dataTable =\n",
              "            await google.colab.kernel.invokeFunction('convertToInteractive',\n",
              "                                                     [key], {});\n",
              "          if (!dataTable) return;\n",
              "\n",
              "          const docLinkHtml = 'Like what you see? Visit the ' +\n",
              "            '<a target=\"_blank\" href=https://colab.research.google.com/notebooks/data_table.ipynb>data table notebook</a>'\n",
              "            + ' to learn more about interactive tables.';\n",
              "          element.innerHTML = '';\n",
              "          dataTable['output_type'] = 'display_data';\n",
              "          await google.colab.output.renderOutput(dataTable, element);\n",
              "          const docLink = document.createElement('div');\n",
              "          docLink.innerHTML = docLinkHtml;\n",
              "          element.appendChild(docLink);\n",
              "        }\n",
              "      </script>\n",
              "    </div>\n",
              "  </div>\n",
              "  "
            ]
          },
          "metadata": {},
          "execution_count": 4
        }
      ]
    },
    {
      "cell_type": "code",
      "source": [
        "testData.head()\n"
      ],
      "metadata": {
        "colab": {
          "base_uri": "https://localhost:8080/",
          "height": 206
        },
        "id": "Z6zJ98G7XpbJ",
        "outputId": "84fa2cd2-c5e4-4216-e974-da0706aa5b02"
      },
      "execution_count": null,
      "outputs": [
        {
          "output_type": "execute_result",
          "data": {
            "text/plain": [
              "                                                   0\n",
              "0  im feeling rather rotten so im not very ambiti...\n",
              "1  im updating my blog because i feel shitty;sadness\n",
              "2  i never make her separate from me because i do...\n",
              "3  i left with my bouquet of red and yellow tulip...\n",
              "4  i was feeling a little vain when i did this on..."
            ],
            "text/html": [
              "\n",
              "  <div id=\"df-d512ac30-07a1-4212-a6d7-08cc605531e4\">\n",
              "    <div class=\"colab-df-container\">\n",
              "      <div>\n",
              "<style scoped>\n",
              "    .dataframe tbody tr th:only-of-type {\n",
              "        vertical-align: middle;\n",
              "    }\n",
              "\n",
              "    .dataframe tbody tr th {\n",
              "        vertical-align: top;\n",
              "    }\n",
              "\n",
              "    .dataframe thead th {\n",
              "        text-align: right;\n",
              "    }\n",
              "</style>\n",
              "<table border=\"1\" class=\"dataframe\">\n",
              "  <thead>\n",
              "    <tr style=\"text-align: right;\">\n",
              "      <th></th>\n",
              "      <th>0</th>\n",
              "    </tr>\n",
              "  </thead>\n",
              "  <tbody>\n",
              "    <tr>\n",
              "      <th>0</th>\n",
              "      <td>im feeling rather rotten so im not very ambiti...</td>\n",
              "    </tr>\n",
              "    <tr>\n",
              "      <th>1</th>\n",
              "      <td>im updating my blog because i feel shitty;sadness</td>\n",
              "    </tr>\n",
              "    <tr>\n",
              "      <th>2</th>\n",
              "      <td>i never make her separate from me because i do...</td>\n",
              "    </tr>\n",
              "    <tr>\n",
              "      <th>3</th>\n",
              "      <td>i left with my bouquet of red and yellow tulip...</td>\n",
              "    </tr>\n",
              "    <tr>\n",
              "      <th>4</th>\n",
              "      <td>i was feeling a little vain when i did this on...</td>\n",
              "    </tr>\n",
              "  </tbody>\n",
              "</table>\n",
              "</div>\n",
              "      <button class=\"colab-df-convert\" onclick=\"convertToInteractive('df-d512ac30-07a1-4212-a6d7-08cc605531e4')\"\n",
              "              title=\"Convert this dataframe to an interactive table.\"\n",
              "              style=\"display:none;\">\n",
              "        \n",
              "  <svg xmlns=\"http://www.w3.org/2000/svg\" height=\"24px\"viewBox=\"0 0 24 24\"\n",
              "       width=\"24px\">\n",
              "    <path d=\"M0 0h24v24H0V0z\" fill=\"none\"/>\n",
              "    <path d=\"M18.56 5.44l.94 2.06.94-2.06 2.06-.94-2.06-.94-.94-2.06-.94 2.06-2.06.94zm-11 1L8.5 8.5l.94-2.06 2.06-.94-2.06-.94L8.5 2.5l-.94 2.06-2.06.94zm10 10l.94 2.06.94-2.06 2.06-.94-2.06-.94-.94-2.06-.94 2.06-2.06.94z\"/><path d=\"M17.41 7.96l-1.37-1.37c-.4-.4-.92-.59-1.43-.59-.52 0-1.04.2-1.43.59L10.3 9.45l-7.72 7.72c-.78.78-.78 2.05 0 2.83L4 21.41c.39.39.9.59 1.41.59.51 0 1.02-.2 1.41-.59l7.78-7.78 2.81-2.81c.8-.78.8-2.07 0-2.86zM5.41 20L4 18.59l7.72-7.72 1.47 1.35L5.41 20z\"/>\n",
              "  </svg>\n",
              "      </button>\n",
              "      \n",
              "  <style>\n",
              "    .colab-df-container {\n",
              "      display:flex;\n",
              "      flex-wrap:wrap;\n",
              "      gap: 12px;\n",
              "    }\n",
              "\n",
              "    .colab-df-convert {\n",
              "      background-color: #E8F0FE;\n",
              "      border: none;\n",
              "      border-radius: 50%;\n",
              "      cursor: pointer;\n",
              "      display: none;\n",
              "      fill: #1967D2;\n",
              "      height: 32px;\n",
              "      padding: 0 0 0 0;\n",
              "      width: 32px;\n",
              "    }\n",
              "\n",
              "    .colab-df-convert:hover {\n",
              "      background-color: #E2EBFA;\n",
              "      box-shadow: 0px 1px 2px rgba(60, 64, 67, 0.3), 0px 1px 3px 1px rgba(60, 64, 67, 0.15);\n",
              "      fill: #174EA6;\n",
              "    }\n",
              "\n",
              "    [theme=dark] .colab-df-convert {\n",
              "      background-color: #3B4455;\n",
              "      fill: #D2E3FC;\n",
              "    }\n",
              "\n",
              "    [theme=dark] .colab-df-convert:hover {\n",
              "      background-color: #434B5C;\n",
              "      box-shadow: 0px 1px 3px 1px rgba(0, 0, 0, 0.15);\n",
              "      filter: drop-shadow(0px 1px 2px rgba(0, 0, 0, 0.3));\n",
              "      fill: #FFFFFF;\n",
              "    }\n",
              "  </style>\n",
              "\n",
              "      <script>\n",
              "        const buttonEl =\n",
              "          document.querySelector('#df-d512ac30-07a1-4212-a6d7-08cc605531e4 button.colab-df-convert');\n",
              "        buttonEl.style.display =\n",
              "          google.colab.kernel.accessAllowed ? 'block' : 'none';\n",
              "\n",
              "        async function convertToInteractive(key) {\n",
              "          const element = document.querySelector('#df-d512ac30-07a1-4212-a6d7-08cc605531e4');\n",
              "          const dataTable =\n",
              "            await google.colab.kernel.invokeFunction('convertToInteractive',\n",
              "                                                     [key], {});\n",
              "          if (!dataTable) return;\n",
              "\n",
              "          const docLinkHtml = 'Like what you see? Visit the ' +\n",
              "            '<a target=\"_blank\" href=https://colab.research.google.com/notebooks/data_table.ipynb>data table notebook</a>'\n",
              "            + ' to learn more about interactive tables.';\n",
              "          element.innerHTML = '';\n",
              "          dataTable['output_type'] = 'display_data';\n",
              "          await google.colab.output.renderOutput(dataTable, element);\n",
              "          const docLink = document.createElement('div');\n",
              "          docLink.innerHTML = docLinkHtml;\n",
              "          element.appendChild(docLink);\n",
              "        }\n",
              "      </script>\n",
              "    </div>\n",
              "  </div>\n",
              "  "
            ]
          },
          "metadata": {},
          "execution_count": 5
        }
      ]
    },
    {
      "cell_type": "code",
      "source": [
        "\n",
        "def renameColumn(dataset):\n",
        "  dataset.rename(columns = {0 : 'description'}, inplace = True)\n",
        "  return dataset"
      ],
      "metadata": {
        "id": "ii6g83fzXs8u"
      },
      "execution_count": null,
      "outputs": []
    },
    {
      "cell_type": "code",
      "source": [
        "\n",
        "renameColumn(trainData)\n",
        "renameColumn(testData)"
      ],
      "metadata": {
        "colab": {
          "base_uri": "https://localhost:8080/",
          "height": 424
        },
        "id": "pCE-2AWwXuqM",
        "outputId": "396e5d18-dc1f-4cd1-9dce-7903d9d4897d"
      },
      "execution_count": null,
      "outputs": [
        {
          "output_type": "execute_result",
          "data": {
            "text/plain": [
              "                                            description\n",
              "0     im feeling rather rotten so im not very ambiti...\n",
              "1     im updating my blog because i feel shitty;sadness\n",
              "2     i never make her separate from me because i do...\n",
              "3     i left with my bouquet of red and yellow tulip...\n",
              "4     i was feeling a little vain when i did this on...\n",
              "...                                                 ...\n",
              "1995  i just keep feeling like someone is being unki...\n",
              "1996  im feeling a little cranky negative after this...\n",
              "1997  i feel that i am useful to my people and that ...\n",
              "1998  im feeling more comfortable with derby i feel ...\n",
              "1999  i feel all weird when i have to meet w people ...\n",
              "\n",
              "[2000 rows x 1 columns]"
            ],
            "text/html": [
              "\n",
              "  <div id=\"df-1cbc5c2c-f9b3-4fd2-b1ff-49ac68718ae6\">\n",
              "    <div class=\"colab-df-container\">\n",
              "      <div>\n",
              "<style scoped>\n",
              "    .dataframe tbody tr th:only-of-type {\n",
              "        vertical-align: middle;\n",
              "    }\n",
              "\n",
              "    .dataframe tbody tr th {\n",
              "        vertical-align: top;\n",
              "    }\n",
              "\n",
              "    .dataframe thead th {\n",
              "        text-align: right;\n",
              "    }\n",
              "</style>\n",
              "<table border=\"1\" class=\"dataframe\">\n",
              "  <thead>\n",
              "    <tr style=\"text-align: right;\">\n",
              "      <th></th>\n",
              "      <th>description</th>\n",
              "    </tr>\n",
              "  </thead>\n",
              "  <tbody>\n",
              "    <tr>\n",
              "      <th>0</th>\n",
              "      <td>im feeling rather rotten so im not very ambiti...</td>\n",
              "    </tr>\n",
              "    <tr>\n",
              "      <th>1</th>\n",
              "      <td>im updating my blog because i feel shitty;sadness</td>\n",
              "    </tr>\n",
              "    <tr>\n",
              "      <th>2</th>\n",
              "      <td>i never make her separate from me because i do...</td>\n",
              "    </tr>\n",
              "    <tr>\n",
              "      <th>3</th>\n",
              "      <td>i left with my bouquet of red and yellow tulip...</td>\n",
              "    </tr>\n",
              "    <tr>\n",
              "      <th>4</th>\n",
              "      <td>i was feeling a little vain when i did this on...</td>\n",
              "    </tr>\n",
              "    <tr>\n",
              "      <th>...</th>\n",
              "      <td>...</td>\n",
              "    </tr>\n",
              "    <tr>\n",
              "      <th>1995</th>\n",
              "      <td>i just keep feeling like someone is being unki...</td>\n",
              "    </tr>\n",
              "    <tr>\n",
              "      <th>1996</th>\n",
              "      <td>im feeling a little cranky negative after this...</td>\n",
              "    </tr>\n",
              "    <tr>\n",
              "      <th>1997</th>\n",
              "      <td>i feel that i am useful to my people and that ...</td>\n",
              "    </tr>\n",
              "    <tr>\n",
              "      <th>1998</th>\n",
              "      <td>im feeling more comfortable with derby i feel ...</td>\n",
              "    </tr>\n",
              "    <tr>\n",
              "      <th>1999</th>\n",
              "      <td>i feel all weird when i have to meet w people ...</td>\n",
              "    </tr>\n",
              "  </tbody>\n",
              "</table>\n",
              "<p>2000 rows × 1 columns</p>\n",
              "</div>\n",
              "      <button class=\"colab-df-convert\" onclick=\"convertToInteractive('df-1cbc5c2c-f9b3-4fd2-b1ff-49ac68718ae6')\"\n",
              "              title=\"Convert this dataframe to an interactive table.\"\n",
              "              style=\"display:none;\">\n",
              "        \n",
              "  <svg xmlns=\"http://www.w3.org/2000/svg\" height=\"24px\"viewBox=\"0 0 24 24\"\n",
              "       width=\"24px\">\n",
              "    <path d=\"M0 0h24v24H0V0z\" fill=\"none\"/>\n",
              "    <path d=\"M18.56 5.44l.94 2.06.94-2.06 2.06-.94-2.06-.94-.94-2.06-.94 2.06-2.06.94zm-11 1L8.5 8.5l.94-2.06 2.06-.94-2.06-.94L8.5 2.5l-.94 2.06-2.06.94zm10 10l.94 2.06.94-2.06 2.06-.94-2.06-.94-.94-2.06-.94 2.06-2.06.94z\"/><path d=\"M17.41 7.96l-1.37-1.37c-.4-.4-.92-.59-1.43-.59-.52 0-1.04.2-1.43.59L10.3 9.45l-7.72 7.72c-.78.78-.78 2.05 0 2.83L4 21.41c.39.39.9.59 1.41.59.51 0 1.02-.2 1.41-.59l7.78-7.78 2.81-2.81c.8-.78.8-2.07 0-2.86zM5.41 20L4 18.59l7.72-7.72 1.47 1.35L5.41 20z\"/>\n",
              "  </svg>\n",
              "      </button>\n",
              "      \n",
              "  <style>\n",
              "    .colab-df-container {\n",
              "      display:flex;\n",
              "      flex-wrap:wrap;\n",
              "      gap: 12px;\n",
              "    }\n",
              "\n",
              "    .colab-df-convert {\n",
              "      background-color: #E8F0FE;\n",
              "      border: none;\n",
              "      border-radius: 50%;\n",
              "      cursor: pointer;\n",
              "      display: none;\n",
              "      fill: #1967D2;\n",
              "      height: 32px;\n",
              "      padding: 0 0 0 0;\n",
              "      width: 32px;\n",
              "    }\n",
              "\n",
              "    .colab-df-convert:hover {\n",
              "      background-color: #E2EBFA;\n",
              "      box-shadow: 0px 1px 2px rgba(60, 64, 67, 0.3), 0px 1px 3px 1px rgba(60, 64, 67, 0.15);\n",
              "      fill: #174EA6;\n",
              "    }\n",
              "\n",
              "    [theme=dark] .colab-df-convert {\n",
              "      background-color: #3B4455;\n",
              "      fill: #D2E3FC;\n",
              "    }\n",
              "\n",
              "    [theme=dark] .colab-df-convert:hover {\n",
              "      background-color: #434B5C;\n",
              "      box-shadow: 0px 1px 3px 1px rgba(0, 0, 0, 0.15);\n",
              "      filter: drop-shadow(0px 1px 2px rgba(0, 0, 0, 0.3));\n",
              "      fill: #FFFFFF;\n",
              "    }\n",
              "  </style>\n",
              "\n",
              "      <script>\n",
              "        const buttonEl =\n",
              "          document.querySelector('#df-1cbc5c2c-f9b3-4fd2-b1ff-49ac68718ae6 button.colab-df-convert');\n",
              "        buttonEl.style.display =\n",
              "          google.colab.kernel.accessAllowed ? 'block' : 'none';\n",
              "\n",
              "        async function convertToInteractive(key) {\n",
              "          const element = document.querySelector('#df-1cbc5c2c-f9b3-4fd2-b1ff-49ac68718ae6');\n",
              "          const dataTable =\n",
              "            await google.colab.kernel.invokeFunction('convertToInteractive',\n",
              "                                                     [key], {});\n",
              "          if (!dataTable) return;\n",
              "\n",
              "          const docLinkHtml = 'Like what you see? Visit the ' +\n",
              "            '<a target=\"_blank\" href=https://colab.research.google.com/notebooks/data_table.ipynb>data table notebook</a>'\n",
              "            + ' to learn more about interactive tables.';\n",
              "          element.innerHTML = '';\n",
              "          dataTable['output_type'] = 'display_data';\n",
              "          await google.colab.output.renderOutput(dataTable, element);\n",
              "          const docLink = document.createElement('div');\n",
              "          docLink.innerHTML = docLinkHtml;\n",
              "          element.appendChild(docLink);\n",
              "        }\n",
              "      </script>\n",
              "    </div>\n",
              "  </div>\n",
              "  "
            ]
          },
          "metadata": {},
          "execution_count": 8
        }
      ]
    },
    {
      "cell_type": "code",
      "source": [
        "def emotionSplitter(dataset):\n",
        "    dataset[[\"text\", \"emotion\"]] = dataset[\"description\"].str.split(\";\", expand = True)\n",
        "    dataset = dataset.drop(\"description\", axis = 1)\n",
        "    return dataset"
      ],
      "metadata": {
        "id": "hy4M9h4NXwqx"
      },
      "execution_count": null,
      "outputs": []
    },
    {
      "cell_type": "code",
      "source": [
        "\n",
        "trainData = emotionSplitter(trainData)\n",
        "testData = emotionSplitter(testData)\n",
        "     "
      ],
      "metadata": {
        "id": "ORwbW5FsX0Li"
      },
      "execution_count": null,
      "outputs": []
    },
    {
      "cell_type": "code",
      "source": [
        "trainData.head()"
      ],
      "metadata": {
        "colab": {
          "base_uri": "https://localhost:8080/",
          "height": 206
        },
        "id": "lMjp7A7cX11s",
        "outputId": "301d7cc6-48bd-41a2-fb6f-727465678cf8"
      },
      "execution_count": null,
      "outputs": [
        {
          "output_type": "execute_result",
          "data": {
            "text/plain": [
              "                                                text  emotion\n",
              "0                            i didnt feel humiliated  sadness\n",
              "1  i can go from feeling so hopeless to so damned...  sadness\n",
              "2   im grabbing a minute to post i feel greedy wrong    anger\n",
              "3  i am ever feeling nostalgic about the fireplac...     love\n",
              "4                               i am feeling grouchy    anger"
            ],
            "text/html": [
              "\n",
              "  <div id=\"df-507d90be-8514-4362-9e9f-1c9cf42eb279\">\n",
              "    <div class=\"colab-df-container\">\n",
              "      <div>\n",
              "<style scoped>\n",
              "    .dataframe tbody tr th:only-of-type {\n",
              "        vertical-align: middle;\n",
              "    }\n",
              "\n",
              "    .dataframe tbody tr th {\n",
              "        vertical-align: top;\n",
              "    }\n",
              "\n",
              "    .dataframe thead th {\n",
              "        text-align: right;\n",
              "    }\n",
              "</style>\n",
              "<table border=\"1\" class=\"dataframe\">\n",
              "  <thead>\n",
              "    <tr style=\"text-align: right;\">\n",
              "      <th></th>\n",
              "      <th>text</th>\n",
              "      <th>emotion</th>\n",
              "    </tr>\n",
              "  </thead>\n",
              "  <tbody>\n",
              "    <tr>\n",
              "      <th>0</th>\n",
              "      <td>i didnt feel humiliated</td>\n",
              "      <td>sadness</td>\n",
              "    </tr>\n",
              "    <tr>\n",
              "      <th>1</th>\n",
              "      <td>i can go from feeling so hopeless to so damned...</td>\n",
              "      <td>sadness</td>\n",
              "    </tr>\n",
              "    <tr>\n",
              "      <th>2</th>\n",
              "      <td>im grabbing a minute to post i feel greedy wrong</td>\n",
              "      <td>anger</td>\n",
              "    </tr>\n",
              "    <tr>\n",
              "      <th>3</th>\n",
              "      <td>i am ever feeling nostalgic about the fireplac...</td>\n",
              "      <td>love</td>\n",
              "    </tr>\n",
              "    <tr>\n",
              "      <th>4</th>\n",
              "      <td>i am feeling grouchy</td>\n",
              "      <td>anger</td>\n",
              "    </tr>\n",
              "  </tbody>\n",
              "</table>\n",
              "</div>\n",
              "      <button class=\"colab-df-convert\" onclick=\"convertToInteractive('df-507d90be-8514-4362-9e9f-1c9cf42eb279')\"\n",
              "              title=\"Convert this dataframe to an interactive table.\"\n",
              "              style=\"display:none;\">\n",
              "        \n",
              "  <svg xmlns=\"http://www.w3.org/2000/svg\" height=\"24px\"viewBox=\"0 0 24 24\"\n",
              "       width=\"24px\">\n",
              "    <path d=\"M0 0h24v24H0V0z\" fill=\"none\"/>\n",
              "    <path d=\"M18.56 5.44l.94 2.06.94-2.06 2.06-.94-2.06-.94-.94-2.06-.94 2.06-2.06.94zm-11 1L8.5 8.5l.94-2.06 2.06-.94-2.06-.94L8.5 2.5l-.94 2.06-2.06.94zm10 10l.94 2.06.94-2.06 2.06-.94-2.06-.94-.94-2.06-.94 2.06-2.06.94z\"/><path d=\"M17.41 7.96l-1.37-1.37c-.4-.4-.92-.59-1.43-.59-.52 0-1.04.2-1.43.59L10.3 9.45l-7.72 7.72c-.78.78-.78 2.05 0 2.83L4 21.41c.39.39.9.59 1.41.59.51 0 1.02-.2 1.41-.59l7.78-7.78 2.81-2.81c.8-.78.8-2.07 0-2.86zM5.41 20L4 18.59l7.72-7.72 1.47 1.35L5.41 20z\"/>\n",
              "  </svg>\n",
              "      </button>\n",
              "      \n",
              "  <style>\n",
              "    .colab-df-container {\n",
              "      display:flex;\n",
              "      flex-wrap:wrap;\n",
              "      gap: 12px;\n",
              "    }\n",
              "\n",
              "    .colab-df-convert {\n",
              "      background-color: #E8F0FE;\n",
              "      border: none;\n",
              "      border-radius: 50%;\n",
              "      cursor: pointer;\n",
              "      display: none;\n",
              "      fill: #1967D2;\n",
              "      height: 32px;\n",
              "      padding: 0 0 0 0;\n",
              "      width: 32px;\n",
              "    }\n",
              "\n",
              "    .colab-df-convert:hover {\n",
              "      background-color: #E2EBFA;\n",
              "      box-shadow: 0px 1px 2px rgba(60, 64, 67, 0.3), 0px 1px 3px 1px rgba(60, 64, 67, 0.15);\n",
              "      fill: #174EA6;\n",
              "    }\n",
              "\n",
              "    [theme=dark] .colab-df-convert {\n",
              "      background-color: #3B4455;\n",
              "      fill: #D2E3FC;\n",
              "    }\n",
              "\n",
              "    [theme=dark] .colab-df-convert:hover {\n",
              "      background-color: #434B5C;\n",
              "      box-shadow: 0px 1px 3px 1px rgba(0, 0, 0, 0.15);\n",
              "      filter: drop-shadow(0px 1px 2px rgba(0, 0, 0, 0.3));\n",
              "      fill: #FFFFFF;\n",
              "    }\n",
              "  </style>\n",
              "\n",
              "      <script>\n",
              "        const buttonEl =\n",
              "          document.querySelector('#df-507d90be-8514-4362-9e9f-1c9cf42eb279 button.colab-df-convert');\n",
              "        buttonEl.style.display =\n",
              "          google.colab.kernel.accessAllowed ? 'block' : 'none';\n",
              "\n",
              "        async function convertToInteractive(key) {\n",
              "          const element = document.querySelector('#df-507d90be-8514-4362-9e9f-1c9cf42eb279');\n",
              "          const dataTable =\n",
              "            await google.colab.kernel.invokeFunction('convertToInteractive',\n",
              "                                                     [key], {});\n",
              "          if (!dataTable) return;\n",
              "\n",
              "          const docLinkHtml = 'Like what you see? Visit the ' +\n",
              "            '<a target=\"_blank\" href=https://colab.research.google.com/notebooks/data_table.ipynb>data table notebook</a>'\n",
              "            + ' to learn more about interactive tables.';\n",
              "          element.innerHTML = '';\n",
              "          dataTable['output_type'] = 'display_data';\n",
              "          await google.colab.output.renderOutput(dataTable, element);\n",
              "          const docLink = document.createElement('div');\n",
              "          docLink.innerHTML = docLinkHtml;\n",
              "          element.appendChild(docLink);\n",
              "        }\n",
              "      </script>\n",
              "    </div>\n",
              "  </div>\n",
              "  "
            ]
          },
          "metadata": {},
          "execution_count": 11
        }
      ]
    },
    {
      "cell_type": "code",
      "source": [
        "encodedEmotions = {\"anger\": 0, \"fear\": 1, \"joy\": 2, \"love\": 3, \"sadness\": 4, \"surprise\": 5}\n"
      ],
      "metadata": {
        "id": "d29yK3OXX4fy"
      },
      "execution_count": null,
      "outputs": []
    },
    {
      "cell_type": "code",
      "source": [
        "\n",
        "def emotionEncoder(dataset):\n",
        "    dataset.replace(encodedEmotions, inplace = True)\n",
        "    return dataset"
      ],
      "metadata": {
        "id": "WSCnsJOcX97l"
      },
      "execution_count": null,
      "outputs": []
    },
    {
      "cell_type": "code",
      "source": [
        "\n",
        "emotionEncoder(trainData)\n",
        "emotionEncoder(testData)"
      ],
      "metadata": {
        "colab": {
          "base_uri": "https://localhost:8080/",
          "height": 424
        },
        "id": "T3IdnjRGX_nS",
        "outputId": "9a0272b9-9acf-491e-db3a-5302b14d99f4"
      },
      "execution_count": null,
      "outputs": [
        {
          "output_type": "execute_result",
          "data": {
            "text/plain": [
              "                                                   text  emotion\n",
              "0     im feeling rather rotten so im not very ambiti...        4\n",
              "1             im updating my blog because i feel shitty        4\n",
              "2     i never make her separate from me because i do...        4\n",
              "3     i left with my bouquet of red and yellow tulip...        2\n",
              "4       i was feeling a little vain when i did this one        4\n",
              "...                                                 ...      ...\n",
              "1995  i just keep feeling like someone is being unki...        0\n",
              "1996  im feeling a little cranky negative after this...        0\n",
              "1997  i feel that i am useful to my people and that ...        2\n",
              "1998  im feeling more comfortable with derby i feel ...        2\n",
              "1999  i feel all weird when i have to meet w people ...        1\n",
              "\n",
              "[2000 rows x 2 columns]"
            ],
            "text/html": [
              "\n",
              "  <div id=\"df-90f03a5a-0a54-4626-ab8d-7a67b436a55c\">\n",
              "    <div class=\"colab-df-container\">\n",
              "      <div>\n",
              "<style scoped>\n",
              "    .dataframe tbody tr th:only-of-type {\n",
              "        vertical-align: middle;\n",
              "    }\n",
              "\n",
              "    .dataframe tbody tr th {\n",
              "        vertical-align: top;\n",
              "    }\n",
              "\n",
              "    .dataframe thead th {\n",
              "        text-align: right;\n",
              "    }\n",
              "</style>\n",
              "<table border=\"1\" class=\"dataframe\">\n",
              "  <thead>\n",
              "    <tr style=\"text-align: right;\">\n",
              "      <th></th>\n",
              "      <th>text</th>\n",
              "      <th>emotion</th>\n",
              "    </tr>\n",
              "  </thead>\n",
              "  <tbody>\n",
              "    <tr>\n",
              "      <th>0</th>\n",
              "      <td>im feeling rather rotten so im not very ambiti...</td>\n",
              "      <td>4</td>\n",
              "    </tr>\n",
              "    <tr>\n",
              "      <th>1</th>\n",
              "      <td>im updating my blog because i feel shitty</td>\n",
              "      <td>4</td>\n",
              "    </tr>\n",
              "    <tr>\n",
              "      <th>2</th>\n",
              "      <td>i never make her separate from me because i do...</td>\n",
              "      <td>4</td>\n",
              "    </tr>\n",
              "    <tr>\n",
              "      <th>3</th>\n",
              "      <td>i left with my bouquet of red and yellow tulip...</td>\n",
              "      <td>2</td>\n",
              "    </tr>\n",
              "    <tr>\n",
              "      <th>4</th>\n",
              "      <td>i was feeling a little vain when i did this one</td>\n",
              "      <td>4</td>\n",
              "    </tr>\n",
              "    <tr>\n",
              "      <th>...</th>\n",
              "      <td>...</td>\n",
              "      <td>...</td>\n",
              "    </tr>\n",
              "    <tr>\n",
              "      <th>1995</th>\n",
              "      <td>i just keep feeling like someone is being unki...</td>\n",
              "      <td>0</td>\n",
              "    </tr>\n",
              "    <tr>\n",
              "      <th>1996</th>\n",
              "      <td>im feeling a little cranky negative after this...</td>\n",
              "      <td>0</td>\n",
              "    </tr>\n",
              "    <tr>\n",
              "      <th>1997</th>\n",
              "      <td>i feel that i am useful to my people and that ...</td>\n",
              "      <td>2</td>\n",
              "    </tr>\n",
              "    <tr>\n",
              "      <th>1998</th>\n",
              "      <td>im feeling more comfortable with derby i feel ...</td>\n",
              "      <td>2</td>\n",
              "    </tr>\n",
              "    <tr>\n",
              "      <th>1999</th>\n",
              "      <td>i feel all weird when i have to meet w people ...</td>\n",
              "      <td>1</td>\n",
              "    </tr>\n",
              "  </tbody>\n",
              "</table>\n",
              "<p>2000 rows × 2 columns</p>\n",
              "</div>\n",
              "      <button class=\"colab-df-convert\" onclick=\"convertToInteractive('df-90f03a5a-0a54-4626-ab8d-7a67b436a55c')\"\n",
              "              title=\"Convert this dataframe to an interactive table.\"\n",
              "              style=\"display:none;\">\n",
              "        \n",
              "  <svg xmlns=\"http://www.w3.org/2000/svg\" height=\"24px\"viewBox=\"0 0 24 24\"\n",
              "       width=\"24px\">\n",
              "    <path d=\"M0 0h24v24H0V0z\" fill=\"none\"/>\n",
              "    <path d=\"M18.56 5.44l.94 2.06.94-2.06 2.06-.94-2.06-.94-.94-2.06-.94 2.06-2.06.94zm-11 1L8.5 8.5l.94-2.06 2.06-.94-2.06-.94L8.5 2.5l-.94 2.06-2.06.94zm10 10l.94 2.06.94-2.06 2.06-.94-2.06-.94-.94-2.06-.94 2.06-2.06.94z\"/><path d=\"M17.41 7.96l-1.37-1.37c-.4-.4-.92-.59-1.43-.59-.52 0-1.04.2-1.43.59L10.3 9.45l-7.72 7.72c-.78.78-.78 2.05 0 2.83L4 21.41c.39.39.9.59 1.41.59.51 0 1.02-.2 1.41-.59l7.78-7.78 2.81-2.81c.8-.78.8-2.07 0-2.86zM5.41 20L4 18.59l7.72-7.72 1.47 1.35L5.41 20z\"/>\n",
              "  </svg>\n",
              "      </button>\n",
              "      \n",
              "  <style>\n",
              "    .colab-df-container {\n",
              "      display:flex;\n",
              "      flex-wrap:wrap;\n",
              "      gap: 12px;\n",
              "    }\n",
              "\n",
              "    .colab-df-convert {\n",
              "      background-color: #E8F0FE;\n",
              "      border: none;\n",
              "      border-radius: 50%;\n",
              "      cursor: pointer;\n",
              "      display: none;\n",
              "      fill: #1967D2;\n",
              "      height: 32px;\n",
              "      padding: 0 0 0 0;\n",
              "      width: 32px;\n",
              "    }\n",
              "\n",
              "    .colab-df-convert:hover {\n",
              "      background-color: #E2EBFA;\n",
              "      box-shadow: 0px 1px 2px rgba(60, 64, 67, 0.3), 0px 1px 3px 1px rgba(60, 64, 67, 0.15);\n",
              "      fill: #174EA6;\n",
              "    }\n",
              "\n",
              "    [theme=dark] .colab-df-convert {\n",
              "      background-color: #3B4455;\n",
              "      fill: #D2E3FC;\n",
              "    }\n",
              "\n",
              "    [theme=dark] .colab-df-convert:hover {\n",
              "      background-color: #434B5C;\n",
              "      box-shadow: 0px 1px 3px 1px rgba(0, 0, 0, 0.15);\n",
              "      filter: drop-shadow(0px 1px 2px rgba(0, 0, 0, 0.3));\n",
              "      fill: #FFFFFF;\n",
              "    }\n",
              "  </style>\n",
              "\n",
              "      <script>\n",
              "        const buttonEl =\n",
              "          document.querySelector('#df-90f03a5a-0a54-4626-ab8d-7a67b436a55c button.colab-df-convert');\n",
              "        buttonEl.style.display =\n",
              "          google.colab.kernel.accessAllowed ? 'block' : 'none';\n",
              "\n",
              "        async function convertToInteractive(key) {\n",
              "          const element = document.querySelector('#df-90f03a5a-0a54-4626-ab8d-7a67b436a55c');\n",
              "          const dataTable =\n",
              "            await google.colab.kernel.invokeFunction('convertToInteractive',\n",
              "                                                     [key], {});\n",
              "          if (!dataTable) return;\n",
              "\n",
              "          const docLinkHtml = 'Like what you see? Visit the ' +\n",
              "            '<a target=\"_blank\" href=https://colab.research.google.com/notebooks/data_table.ipynb>data table notebook</a>'\n",
              "            + ' to learn more about interactive tables.';\n",
              "          element.innerHTML = '';\n",
              "          dataTable['output_type'] = 'display_data';\n",
              "          await google.colab.output.renderOutput(dataTable, element);\n",
              "          const docLink = document.createElement('div');\n",
              "          docLink.innerHTML = docLinkHtml;\n",
              "          element.appendChild(docLink);\n",
              "        }\n",
              "      </script>\n",
              "    </div>\n",
              "  </div>\n",
              "  "
            ]
          },
          "metadata": {},
          "execution_count": 14
        }
      ]
    },
    {
      "cell_type": "code",
      "source": [
        "\n",
        "def labelFeatureSplitter(dataset):\n",
        "  features = dataset[\"text\"].to_numpy()\n",
        "  labels = dataset[\"emotion\"].to_numpy()\n",
        "  return (features, labels)"
      ],
      "metadata": {
        "id": "R6oyyiTtYA9G"
      },
      "execution_count": null,
      "outputs": []
    },
    {
      "cell_type": "code",
      "source": [
        "(trainFeatures, trainLabels) = labelFeatureSplitter(trainData)\n",
        "(testFeatures, testLabels) = labelFeatureSplitter(testData)\n",
        "     "
      ],
      "metadata": {
        "id": "Zr8BfFCQYDKJ"
      },
      "execution_count": null,
      "outputs": []
    },
    {
      "cell_type": "code",
      "source": [
        "stopWords = ['ourselves', 'hers', 'between', 'yourself', 'but', 'again', 'there', 'about', 'once', 'during', \n",
        "              'out', 'very', 'having', 'with', 'they', 'own', 'an', 'be', 'some', 'for', 'do', 'its', \n",
        "              'yours', 'such', 'into', 'of', 'most', 'itself', 'other', 'is', 's', 'am', 'or', 'who', \n",
        "              'as', 'from', 'him', 'each', 'the', 'themselves', 'until', 'below', 'are', 'we', \n",
        "              'these', 'your', 'his', 'through', 'don', 'me', 'were', 'her', 'more', 'himself', \n",
        "              'this', 'down', 'should', 'our', 'their', 'while', 'above', 'both', 'up', 'to',\n",
        "              'ours', 'had', 'she', 'all', 'when', 'at', 'any', 'before', 'them', 'same', 'and', \n",
        "              'been', 'have', 'in', 'will', 'on', 'does', 'yourselves', 'then', 'that', 'because',\n",
        "              'what', 'over', 'why', 'so', 'can', 'did', 'not', 'now', 'under', 'he', 'you', \n",
        "              'herself', 'has', 'just', 'where', 'only', 'myself', 'which', 'those', 'i', \n",
        "              'after', 'few', 'whom', 't', 'being', 'if', 'theirs', 'my', 'against', 'a', \n",
        "              'by', 'doing', 'it', 'how', 'further', 'was', 'here', 'than',\n",
        "              'ti','ame',' m','have','i','say','ames','someti'\n",
        "              ]\n",
        "\n",
        "termExpansionDict = {\"won't\":\"will not\", \"can't\":\"can not\",\"n't\":\" not\", \n",
        "                          \"'re\":\" are\",\"'s been\":\" has been\",\"'s\":\" is\",\"'d\":\" would\",\"'ll\":\" will\",\n",
        "                          \"'t\":\" not\", \"ve\":\" have\", \"'m\":\" am\", \"im\":\"i am\"}"
      ],
      "metadata": {
        "id": "NMZppZYnYFLg"
      },
      "execution_count": null,
      "outputs": []
    },
    {
      "cell_type": "code",
      "source": [
        "vowels = ['a','e','i','o','u']\n",
        "\n",
        "def vowelFinder(word):\n",
        "  for i in range(len(word)):\n",
        "    if word[i] in vowels or (i > 0 and word[i]=='y' and word[i-1] not in vowels):\n",
        "      return True\n",
        "  return False\n"
      ],
      "metadata": {
        "id": "oLgsXLI6H7XA"
      },
      "execution_count": null,
      "outputs": []
    },
    {
      "cell_type": "code",
      "source": [
        "def doubleConsonant(word):\n",
        "  if len(word) < 2:\n",
        "    return False\n",
        "  if word[0] == word[1]:\n",
        "    if word[0] not in vowels:\n",
        "      return True\n",
        "  return False"
      ],
      "metadata": {
        "id": "GvfU_kvSH_rd"
      },
      "execution_count": null,
      "outputs": []
    },
    {
      "cell_type": "code",
      "source": [
        "def cvcFormater(word):\n",
        "  if len(word) == 3:\n",
        "    if (word[0] not in vowels) and word[1] in vowels and (word[2] not in vowels and word[2] not in ['w','x','y']):\n",
        "      return True\n",
        "  elif len(word)==4:\n",
        "    if (word[1] not in vowels) or (word [1] == 'y' and word[0] in vowels):\n",
        "          if word[2] in vowels and (word[3] not in vowels and word[3] not in ['w','x','y']):\n",
        "            return True\n",
        "  return False"
      ],
      "metadata": {
        "id": "5Hwz6B52IBkp"
      },
      "execution_count": null,
      "outputs": []
    },
    {
      "cell_type": "code",
      "source": [
        "def mFinder(word):\n",
        "  m = 0\n",
        "  if len(word) < 2:\n",
        "    return m\n",
        "  for i in range(1,len(word)):\n",
        "    v = word[i-1]\n",
        "    c = word[i]\n",
        "    if (v in vowels) and (c not in vowels) or (v not in vowels and v != 'y') and (c == 'y'):\n",
        "      m += 1\n",
        "  return m\n"
      ],
      "metadata": {
        "id": "2z7fiJeLIDzu"
      },
      "execution_count": null,
      "outputs": []
    },
    {
      "cell_type": "code",
      "source": [
        "def wordStemmer(word):\n",
        "  #steps\n",
        "\n",
        "  #step 1\n",
        "    #1a\n",
        "  if word[-4:] == 'sses':\n",
        "    word = word[:-4]+'ss'\n",
        "  elif word[-3:] == 'ies':\n",
        "    word = word[:-3]+'i'\n",
        "  elif word[-2:] == 'ss':\n",
        "    pass\n",
        "  elif word[-1:] == 's':\n",
        "    word = word[:-1]\n",
        "    #1b\n",
        "  is_b1 = False\n",
        "  if word[-3:] == 'eed' and mFinder(word[:-3]) > 0:\n",
        "    word = word[:-3]+'ee'\n",
        "    is_b1 = True\n",
        "  elif vowelFinder(word[:-2]) and word[-2:] == 'ed':\n",
        "    word = word[:-2]\n",
        "    is_b1 = True\n",
        "  elif vowelFinder(word[:-3]) and word[-3:] == 'ing':\n",
        "    word = word[:-3]\n",
        "    is_b1 = True\n",
        "      #cleanup (only if 1b is applied)\n",
        "  if is_b1 == True:\n",
        "    if word[-2:] == 'at':\n",
        "      word = word[:-2]+'ate'\n",
        "    elif word[-2:] == 'bl':\n",
        "      word = word[:-2]+'ble'\n",
        "    elif doubleConsonant(word[-2:]) and word[-1] not in ['l','s','z']:\n",
        "      word = word[:-1]\n",
        "    elif len(word) > 3 and cvcFormater(word[-4:]) and mFinder(word)==1:\n",
        "      word = word + 'e'\n",
        "    #1c\n",
        "  if vowelFinder(word[:-1]) and word[-1] == 'y':\n",
        "    word = word[:-1]+'i'\n",
        "  \n",
        "  #step 2\n",
        "  if len(word) > 7 and word[-7:] == 'ational' and mFinder(word[:-7]) > 0: #Relational\n",
        "    word = word[:-7]+'ate'\n",
        "  elif len(word) > 7 and word[-7:] == 'ization' and mFinder(word[:-7]) > 0:\n",
        "    word = word[:-7]+'ize'\n",
        "  elif len(word) > 7 and word[-7:] == 'iveness' and mFinder(word[:-7]) > 0:\n",
        "    word = word[:-7]+'ive'\n",
        "  elif len(word) > 7 and word[-7:] == 'fulness' and mFinder(word[:-7]) > 0:\n",
        "    word = word[:-7]+'ful'\n",
        "  elif len(word) > 7 and word[-7:] == 'ousness' and mFinder(word[:-7]) > 0:\n",
        "    word = word[:-7]+'ous'\n",
        "  elif len(word) > 6 and word[-6:] == 'biliti' and mFinder(word[:-6]) > 0:\n",
        "    word = word[:-6]+'ble'\n",
        "  elif len(word) > 6 and word[-6:] == 'tional' and mFinder(word[:-6]) > 0:\n",
        "    word = word[:-6]+'tion'\n",
        "  elif len(word) > 5 and word[-5:] == 'entli' and mFinder(word[:-5]) > 0:\n",
        "    word = word[:-5]+'ent'\n",
        "  elif len(word) > 5 and word[-5:] == 'ousli' and mFinder(word[:-5]) > 0:\n",
        "    word = word[:-5]+'ous'\n",
        "  elif len(word) > 5 and word[-5:] == 'ation' and mFinder(word[:-5]) > 0:\n",
        "    word = word[:-5]+'ate'\n",
        "  elif len(word) > 5 and word[-5:] == 'alism' and mFinder(word[:-5]) > 0:\n",
        "    word = word[:-5]+'al'\n",
        "  elif len(word) > 5 and word[-5:] == 'aliti' and mFinder(word[:-5]) > 0:\n",
        "    word = word[:-5]+'el'\n",
        "  elif len(word) > 5 and word[-5:] == 'iviti' and mFinder(word[:-5]) > 0:\n",
        "    word = word[:-5]+'ive'\n",
        "  elif len(word) > 4 and word[-4:] == 'enci' and mFinder(word[:-4]) > 0:\n",
        "    word = word[:-4]+'ence'\n",
        "  elif len(word) > 4 and word[-4:] == 'anvi' and mFinder(word[:-4]) > 0:\n",
        "    word = word[:-4]+'ance'\n",
        "  elif len(word) > 4 and word[-4:] == 'izer' and mFinder(word[:-4]) > 0:\n",
        "    word = word[:-4]+'ize'\n",
        "  elif len(word) > 4 and word[-4:] == 'ator' and mFinder(word[:-4]) > 0:\n",
        "    word = word[:-4]+'ate'\n",
        "  elif len(word) > 4 and word[-4:] == 'abli' and mFinder(word[:-4]) > 0:\n",
        "    word = word[:-4]+'able'\n",
        "  elif len(word) > 4 and word[-4:] == 'alli' and mFinder(word[:-4]) > 0:\n",
        "    word = word[:-4]+'al'\n",
        "  elif len(word) > 3 and word[-3:] == 'eli' and mFinder(word[:-3]) > 0:\n",
        "    word = word[:-4]+'e'\n",
        "\n",
        "  #step 3\n",
        "  if len(word) > 5 and word[-5:] == 'icate' and mFinder(word[:-5]) > 0 :\n",
        "    word = word[:-5]+'ic'\n",
        "  elif len(word) > 5 and word[-5:] == 'ative' and mFinder(word[:-5]) > 0:\n",
        "    word = word[:-5]\n",
        "  elif len(word) > 5 and word[-5:] == 'alize' and mFinder(word[:-5]) > 0:\n",
        "    word = word[:-5]+'al'\n",
        "  elif len(word) > 5 and word[-5:] == 'iciti' and mFinder(word[:-5]) > 0:\n",
        "    word = word[:-5]+'ic'\n",
        "  elif len(word) > 4 and word[-4:] == 'ical' and mFinder(word[:-4]) > 0:\n",
        "    word = word[:-4]+'ic'\n",
        "  elif len(word) > 4 and word[-4:] == 'ness' and mFinder(word[:-4]) > 0:\n",
        "    word = word[:-4]\n",
        "  elif len(word) > 3 and word[-3:] == 'ful' and mFinder(word[:-3]) > 0:\n",
        "      word = word[:-3]\n",
        "  \n",
        "  #step 4\n",
        "  if len(word) > 5 and word[-5:] == 'ement'  and mFinder(word[:-5]) > 1:\n",
        "    word = word[:-5]\n",
        "  elif len(word) > 4 and word[-4:] == 'ance' and mFinder(word[:-4]) > 1:\n",
        "    word = word[:-4]\n",
        "  elif len(word) > 4 and word[-4:] == 'ence' and mFinder(word[:-4]) > 1:\n",
        "    word = word[:-4]\n",
        "  elif len(word) > 4 and word[-4:] == 'able' and mFinder(word[:-4]) > 1:\n",
        "    word = word[:-4]\n",
        "  elif len(word) > 4 and word[-4:] == 'ible' and mFinder(word[:-4]) > 1:\n",
        "    word = word[:-4]\n",
        "  elif len(word) > 4 and word[-4:] == 'ment' and mFinder(word[:-4]) > 1:\n",
        "    word = word[:-4]\n",
        "  elif len(word) > 4 and (word[-4:] == 'sion' or word[-4:] == 'tion') and mFinder(word[:-4]) > 1:\n",
        "    word = word[:-4]\n",
        "  elif len(word) > 3 and word[-3:] == 'ent' and mFinder(word[:-3]) > 1:\n",
        "    word = word[:-3]\n",
        "  elif len(word) > 3 and word[-3:] == 'ive' and mFinder(word[:-3]) > 1:\n",
        "    word = word[:-3]\n",
        "  elif len(word) > 3 and word[-3:] == 'ant' and mFinder(word[:-3]) > 1:\n",
        "    word = word[:-3]\n",
        "  elif len(word) > 3 and word[-3:] == 'ism' and mFinder(word[:-3]) > 1:\n",
        "    word = word[:-3]\n",
        "  elif len(word) > 3 and word[-3:] == 'ate' and mFinder(word[:-3]) > 1:\n",
        "    word = word[:-3]\n",
        "  elif len(word) > 3 and word[-3:] == 'iti' and mFinder(word[:-3]) > 1:\n",
        "    word = word[:-3]\n",
        "  elif len(word) > 3 and word[-3:] == 'ous' and mFinder(word[:-3]) > 1:\n",
        "    word = word[:-3]\n",
        "  elif len(word) > 3 and word[-3:] == 'ize' and mFinder(word[:-3]) > 1:\n",
        "    word = word[:-3]\n",
        "  elif len(word) > 2 and word[-2:] == 'al' and mFinder(word[:-2]) > 1:\n",
        "    word = word[:-2]\n",
        "  elif len(word) > 2 and word[-2:] == 'er' and mFinder(word[:-2]) > 1:\n",
        "    word = word[:-2]\n",
        "  elif len(word) > 2 and word[-2:] == 'ic' and mFinder(word[:-2]) > 1:\n",
        "    word = word[:-2]\n",
        "  elif len(word) > 2 and word[-2:] == 'ou' and mFinder(word[:-2]) > 1:\n",
        "    word = word[:-2]\n",
        "\n",
        "  \n",
        "  #step 5\n",
        "    #5a\n",
        "  if word[-1] == 'e' and mFinder(word[:-1]) > 1:\n",
        "    word = word[:-1]\n",
        "  elif len(word) > 4 and not (cvcFormater(word[-4:])) and word[-1:]=='e' and mFinder(word[:-1])==1:\n",
        "    word = word[:-1]\n",
        "   #5b\n",
        "  if len(word) > 2 and doubleConsonant(word[-2:]) and word[-1] == 'l' and mFinder(word) > 1:\n",
        "    word = word[:-1]\n",
        "\n",
        "  return word"
      ],
      "metadata": {
        "id": "mpt1PqtQIFtC"
      },
      "execution_count": null,
      "outputs": []
    },
    {
      "cell_type": "code",
      "source": [
        "def termExpander(text):\n",
        "    for c in list(termExpansionDict.keys()):  \n",
        "      text = text.replace(c,termExpansionDict[c])\n",
        "    return text\n",
        "def removeStopwords(inputText):\n",
        "    words = termExpander(inputText).split()\n",
        "    cleanWords = [word for word in words if word not in stopWords]\n",
        "    cleanWords = \" \".join(cleanWords)\n",
        "    return cleanWords\n",
        "def cleaner(sent):\n",
        "    sent = re.sub(\"@[A-Za-z0-9]+\",\"\",sent)\n",
        "    sent = re.sub(r\"(?:\\@|http?\\://|https?\\://|www)\\S+\", \"\", sent)\n",
        "    sent = \" \".join(sent.split())\n",
        "    sent = sent.replace(\"#\", \"\").replace(\"_\", \" \")\n",
        "    return sent\n",
        "     "
      ],
      "metadata": {
        "id": "w_7wT1ovYHBg"
      },
      "execution_count": null,
      "outputs": []
    },
    {
      "cell_type": "code",
      "source": [
        "trainData[\"text\"] = trainData[\"text\"].apply(removeStopwords)\n",
        "testData[\"text\"] = testData[\"text\"].apply(removeStopwords)\n",
        "     \n"
      ],
      "metadata": {
        "id": "hYpDJl0ZYInY"
      },
      "execution_count": null,
      "outputs": []
    },
    {
      "cell_type": "code",
      "source": [
        "\n",
        "trainFeatures"
      ],
      "metadata": {
        "colab": {
          "base_uri": "https://localhost:8080/"
        },
        "id": "FJZzEKozYLQg",
        "outputId": "fa0cc0e3-d629-463a-d18c-cf5c9989c441"
      },
      "execution_count": null,
      "outputs": [
        {
          "output_type": "execute_result",
          "data": {
            "text/plain": [
              "array(['didnt feel humiliated',\n",
              "       'go feeling hopeless damned hopeful around someone cares awake',\n",
              "       'grabbing minute post feel greedy wrong', ...,\n",
              "       'feel strong good o haverall', 'feel like rude comment glad',\n",
              "       'know lot feel stupid portray'], dtype=object)"
            ]
          },
          "metadata": {},
          "execution_count": 20
        }
      ]
    },
    {
      "cell_type": "code",
      "source": [
        "print(set(trainLabels))\n"
      ],
      "metadata": {
        "colab": {
          "base_uri": "https://localhost:8080/"
        },
        "id": "NIgYwTXqYNUb",
        "outputId": "71e04324-bc18-467d-fd04-8651129ddf82"
      },
      "execution_count": null,
      "outputs": [
        {
          "output_type": "stream",
          "name": "stdout",
          "text": [
            "{0, 1, 2, 3, 4, 5}\n"
          ]
        }
      ]
    },
    {
      "cell_type": "code",
      "source": [
        "def NgramSplitter(text,ngram=1): \n",
        "  words=[word for word in text.split(\" \")]\n",
        "  ngramList = []\n",
        "  for i in range(0, len(words) - ngram + 1):\n",
        "    sent = \"\"\n",
        "    for j in range(i, i+ngram):\n",
        "      sent+=words[j];\n",
        "      if(j < i+ ngram - 1):\n",
        "        sent+=\" \"\n",
        "    ngramList.append(sent)\n",
        "\n",
        "  return ngramList"
      ],
      "metadata": {
        "id": "wDQ14M-NYQR3"
      },
      "execution_count": null,
      "outputs": []
    },
    {
      "cell_type": "code",
      "source": [
        "ngramValue = int(input(\"ngram: \"))\n"
      ],
      "metadata": {
        "colab": {
          "base_uri": "https://localhost:8080/"
        },
        "id": "Vv2MjBR6YTZ6",
        "outputId": "3e1fc73a-7863-4877-b698-82bdf562ea84"
      },
      "execution_count": null,
      "outputs": [
        {
          "name": "stdout",
          "output_type": "stream",
          "text": [
            "ngram: 1\n"
          ]
        }
      ]
    },
    {
      "cell_type": "code",
      "source": [
        "NgramSplitter('i am chandra shekar', 2)"
      ],
      "metadata": {
        "colab": {
          "base_uri": "https://localhost:8080/"
        },
        "id": "aDL_tgFtYWiY",
        "outputId": "4147178c-aa81-4b32-d8d1-e39ebbb1f990"
      },
      "execution_count": null,
      "outputs": [
        {
          "output_type": "execute_result",
          "data": {
            "text/plain": [
              "['i am', 'am chandra', 'chandra shekar']"
            ]
          },
          "metadata": {},
          "execution_count": 24
        }
      ]
    },
    {
      "cell_type": "code",
      "source": [
        "\n",
        "def WordEmotionIndexer(sentList,ngram=1):\n",
        "  count = 0\n",
        "  wordEmotionIndex = {}\n",
        "  for sent in sentList:\n",
        "    count+=1\n",
        "    for word in NgramSplitter(sent,ngram):\n",
        "      if word not in wordEmotionIndex:\n",
        "        wordEmotionIndex[word] = 1\n",
        "      else:\n",
        "        wordEmotionIndex[word] += 1\n",
        "  return wordEmotionIndex, count"
      ],
      "metadata": {
        "id": "TuM7_CnEYbgk"
      },
      "execution_count": null,
      "outputs": []
    },
    {
      "cell_type": "code",
      "source": [
        "index = {} \n",
        "count = {}\n",
        "for i in range(6):\n",
        "  index[i],count[i] = WordEmotionIndexer(trainData.loc[trainData[\"emotion\"]  == i][\"text\"],ngramValue)\n",
        "     "
      ],
      "metadata": {
        "id": "SXF0hSqkYg5H"
      },
      "execution_count": null,
      "outputs": []
    },
    {
      "cell_type": "code",
      "source": [
        "\n",
        "sum(count.values())\n"
      ],
      "metadata": {
        "colab": {
          "base_uri": "https://localhost:8080/"
        },
        "id": "PulsV5rpYixx",
        "outputId": "5b8646e8-77e7-4eba-fe12-7dfcb1fe7749"
      },
      "execution_count": null,
      "outputs": [
        {
          "output_type": "execute_result",
          "data": {
            "text/plain": [
              "16000"
            ]
          },
          "metadata": {},
          "execution_count": 27
        }
      ]
    },
    {
      "cell_type": "code",
      "source": [
        "\n",
        "for i in range(6):\n",
        "  print(count[i])\n",
        "     "
      ],
      "metadata": {
        "colab": {
          "base_uri": "https://localhost:8080/"
        },
        "id": "OfbYG_jMYxNI",
        "outputId": "9157cf35-6d74-40b9-eea0-4a1f65cef883"
      },
      "execution_count": null,
      "outputs": [
        {
          "output_type": "stream",
          "name": "stdout",
          "text": [
            "2159\n",
            "1937\n",
            "5362\n",
            "1304\n",
            "4666\n",
            "572\n"
          ]
        }
      ]
    },
    {
      "cell_type": "code",
      "source": [
        "priorProbs={}\n",
        "\n",
        "for i in range(6):\n",
        "  priorProbs[i] = count[i]/sum(count.values())"
      ],
      "metadata": {
        "id": "Hlg-n0neYyrh"
      },
      "execution_count": null,
      "outputs": []
    },
    {
      "cell_type": "code",
      "source": [
        "\n",
        "print(\"Prior Probabilities: \")\n",
        "priorProbs"
      ],
      "metadata": {
        "colab": {
          "base_uri": "https://localhost:8080/"
        },
        "id": "8CZL2NhwY0w7",
        "outputId": "60ad33f8-fb7f-48b6-cfe2-c1d9ea510f4f"
      },
      "execution_count": null,
      "outputs": [
        {
          "output_type": "stream",
          "name": "stdout",
          "text": [
            "Prior Probabilities: \n"
          ]
        },
        {
          "output_type": "execute_result",
          "data": {
            "text/plain": [
              "{0: 0.1349375, 1: 0.1210625, 2: 0.335125, 3: 0.0815, 4: 0.291625, 5: 0.03575}"
            ]
          },
          "metadata": {},
          "execution_count": 30
        }
      ]
    },
    {
      "cell_type": "code",
      "source": [
        "sum(priorProbs.values())"
      ],
      "metadata": {
        "colab": {
          "base_uri": "https://localhost:8080/"
        },
        "id": "xXUNTvNyZLAH",
        "outputId": "374207d3-1153-45db-b029-5c39f1ee8a13"
      },
      "execution_count": null,
      "outputs": [
        {
          "output_type": "execute_result",
          "data": {
            "text/plain": [
              "1.0"
            ]
          },
          "metadata": {},
          "execution_count": 31
        }
      ]
    },
    {
      "cell_type": "code",
      "source": [
        "\n",
        "\n",
        "testY = testData\n"
      ],
      "metadata": {
        "id": "8SaoM4bqZOD4"
      },
      "execution_count": null,
      "outputs": []
    },
    {
      "cell_type": "code",
      "source": [
        "def EmotionPredictor(sent):\n",
        "  i = 0\n",
        "  emotionClass = -10000\n",
        "  for emot in range(6):\n",
        "    result = 0\n",
        "    for word in NgramSplitter(sent,ngramValue):\n",
        "      try:\n",
        "        result += math.log((index[emot][word] +1)/len(index[emot]))\n",
        "      except:\n",
        "        result += math.log(1/ len(index[emot]))\n",
        "    result += math.log(priorProbs[emot])\n",
        "    if result > emotionClass:\n",
        "      emotionClass = result\n",
        "      i = emot\n",
        "  return i\n",
        "     "
      ],
      "metadata": {
        "id": "y7Zyv1OKZPXc"
      },
      "execution_count": null,
      "outputs": []
    },
    {
      "cell_type": "code",
      "source": [
        "\n",
        "EmotionPredictor(\"The boy is joyful\")"
      ],
      "metadata": {
        "colab": {
          "base_uri": "https://localhost:8080/"
        },
        "id": "nEzutqSbZRgu",
        "outputId": "b4311f9b-7d8d-4788-c330-2e2a7edf4fc3"
      },
      "execution_count": null,
      "outputs": [
        {
          "output_type": "execute_result",
          "data": {
            "text/plain": [
              "2"
            ]
          },
          "metadata": {},
          "execution_count": 34
        }
      ]
    },
    {
      "cell_type": "code",
      "source": [
        "\n",
        "prediction = []\n",
        "for sent in testY.text:\n",
        "  prediction.append(EmotionPredictor(sent))"
      ],
      "metadata": {
        "id": "GzjeLfkJZTGi"
      },
      "execution_count": null,
      "outputs": []
    },
    {
      "cell_type": "code",
      "source": [
        "\n",
        "counter = {}\n",
        "\n",
        "for val in prediction:\n",
        "    if val not in counter:\n",
        "        counter[val] = 0\n",
        "    counter[val] += 1\n",
        "counter"
      ],
      "metadata": {
        "colab": {
          "base_uri": "https://localhost:8080/"
        },
        "id": "SGcJ1Zu1Zmuz",
        "outputId": "df087263-1311-49fd-d6e9-7546cacdb7c2"
      },
      "execution_count": null,
      "outputs": [
        {
          "output_type": "execute_result",
          "data": {
            "text/plain": [
              "{4: 815, 2: 798, 0: 152, 1: 144, 5: 37, 3: 54}"
            ]
          },
          "metadata": {},
          "execution_count": 36
        }
      ]
    },
    {
      "cell_type": "code",
      "source": [
        "\n",
        "confusion_matrix(testY[\"emotion\"], prediction, labels=[0,1,2,3,4,5])"
      ],
      "metadata": {
        "colab": {
          "base_uri": "https://localhost:8080/"
        },
        "id": "-b8TKR4hZpug",
        "outputId": "dd4229a6-a51a-4ee3-c4da-858a66208b86"
      },
      "execution_count": null,
      "outputs": [
        {
          "output_type": "execute_result",
          "data": {
            "text/plain": [
              "array([[143,   7,  27,   0,  90,   8],\n",
              "       [  5, 123,  22,   1,  72,   1],\n",
              "       [  0,   3, 640,   5,  40,   7],\n",
              "       [  3,   0,  72,  48,  34,   2],\n",
              "       [  1,   3,  17,   0, 558,   2],\n",
              "       [  0,   8,  20,   0,  21,  17]])"
            ]
          },
          "metadata": {},
          "execution_count": 37
        }
      ]
    },
    {
      "cell_type": "code",
      "source": [
        "print(classification_report(testY[\"emotion\"], prediction, labels=[0,1,2,3,4,5]))\n"
      ],
      "metadata": {
        "colab": {
          "base_uri": "https://localhost:8080/"
        },
        "id": "FtwMzIncZtif",
        "outputId": "7c57493c-c389-48ed-f51a-fd5a89dc4e8d"
      },
      "execution_count": null,
      "outputs": [
        {
          "output_type": "stream",
          "name": "stdout",
          "text": [
            "              precision    recall  f1-score   support\n",
            "\n",
            "           0       0.94      0.52      0.67       275\n",
            "           1       0.85      0.55      0.67       224\n",
            "           2       0.80      0.92      0.86       695\n",
            "           3       0.89      0.30      0.45       159\n",
            "           4       0.68      0.96      0.80       581\n",
            "           5       0.46      0.26      0.33        66\n",
            "\n",
            "    accuracy                           0.76      2000\n",
            "   macro avg       0.77      0.58      0.63      2000\n",
            "weighted avg       0.79      0.76      0.74      2000\n",
            "\n"
          ]
        }
      ]
    },
    {
      "cell_type": "code",
      "source": [],
      "metadata": {
        "id": "0iurnGOQp2KL"
      },
      "execution_count": null,
      "outputs": []
    }
  ]
}